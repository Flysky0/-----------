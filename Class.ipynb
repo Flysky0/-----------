{
 "cells": [
  {
   "cell_type": "code",
   "execution_count": 1,
   "id": "a61df282",
   "metadata": {},
   "outputs": [],
   "source": [
    "import os\n",
    "import pandas as pd"
   ]
  },
  {
   "cell_type": "code",
   "execution_count": 2,
   "id": "f7f7d213",
   "metadata": {},
   "outputs": [],
   "source": [
    "# os.chdir(\"C:\\\\Users\\\\liuji\\\\Desktop\\\\python参考文件\")   #切换到新的路径"
   ]
  },
  {
   "cell_type": "code",
   "execution_count": 3,
   "id": "5e6a6ba7",
   "metadata": {},
   "outputs": [
    {
     "data": {
      "text/plain": [
       "'d:\\\\OneDrive - echo490\\\\桌面\\\\参考'"
      ]
     },
     "execution_count": 3,
     "metadata": {},
     "output_type": "execute_result"
    }
   ],
   "source": [
    "os.getcwd()   #查看当前的工作路径"
   ]
  },
  {
   "cell_type": "code",
   "execution_count": 4,
   "id": "f93de094",
   "metadata": {},
   "outputs": [],
   "source": [
    "class Bill():  #构建一个票据类\n",
    "    def __init__(self,\n",
    "                 matcode='',\n",
    "                 matsubcode = '',\n",
    "                 matitems='',\n",
    "                 matprice='',\n",
    "                 matunit='',\n",
    "                 matquantity=''):\n",
    "        \"\"\"基础科目主文件设置\"\"\"\n",
    "\n",
    "        self.matcode = matcode\n",
    "        self.matsubcode = matsubcode\n",
    "        self.matitems = matitems\n",
    "        self.matprice = matprice\n",
    "        self.matunit = matunit\n",
    "    \n",
    "    def build(self):\n",
    "\n",
    "        self.matcode = input(\"请输入原材料编码：\")\n",
    "        self.matsubcode = input(\"请输入详细编码：\")      \n",
    "        self.matitems = input(\"请输入原材料品质：\")\n",
    "        self.matprice = input(\"请输入原材料价格：\")\n",
    "        self.matunit = input(\"请输入原材料单位：\") \n",
    "        self.matquantity = input(\"请输入原材料订购数量\")\n",
    "        \"\"\"静态方法，把会计科目类属性字典，写入Excel文件\"\"\"   #②静态方法\n",
    "        \n",
    "        # df_account = pd.DataFrame(self.__dict__,index=[1,])  #数据结构：根据self._dict_数据进行“行索引”\n",
    "        # df_account.to_excel(\"Bill_.xlsx\")      "
   ]
  },
  {
   "cell_type": "code",
   "execution_count": 16,
   "id": "4ef27f56",
   "metadata": {},
   "outputs": [],
   "source": [
    "a=Bill()"
   ]
  },
  {
   "cell_type": "code",
   "execution_count": 6,
   "id": "7a0a941a",
   "metadata": {},
   "outputs": [],
   "source": [
    "a.build()"
   ]
  },
  {
   "cell_type": "code",
   "execution_count": 7,
   "id": "01dc2762",
   "metadata": {},
   "outputs": [],
   "source": [
    "class PRbill(Bill):  #定义子类PRbill  Bill是基类\n",
    "    \"\"\"请购单\"\"\"\n",
    "    def __init__(self,\n",
    "                 PRtime='',\n",
    "                 PRddl = '',\n",
    "                 PRnote=''):\n",
    "        \"\"\"基础科目主文件设置\"\"\"\n",
    "\n",
    "        self.PRtime = PRtime\n",
    "        self.PRddl = PRddl\n",
    "        self.PRnote = PRnote\n",
    "        \n",
    "    def PRbuild(self):\n",
    "\n",
    "        self.PRtime = input(\"请输入材料需求部门制单时间：\")\n",
    "        self.PRddl = input(\"请输入材料需求部门要求到货时限：\")      \n",
    "        self.PRnote = input(\"请输入备注信息：\")\n",
    "        \"\"\"静态方法，把会计科目类属性字典，写入Excel文件\"\"\" \n",
    "    \n",
    "    "
   ]
  },
  {
   "cell_type": "code",
   "execution_count": 8,
   "id": "945da586",
   "metadata": {},
   "outputs": [],
   "source": [
    "class PObill(Bill):  #定义子类PObill  Bill是基类\n",
    "    \"\"\"订购单\"\"\"\n",
    "        \n",
    "    def __init__(self,\n",
    "                 P0sup='',\n",
    "                 POpl = '',\n",
    "                 POtel='',\n",
    "                 POconame='',\n",
    "                 POddl=''):\n",
    "        \"\"\"基础科目主文件设置\"\"\"\n",
    "\n",
    "        self.POsup = super().PRtime\n",
    "        self.POpl = super().PRddl\n",
    "        self.POtel = super().PRnote\n",
    "        self.POconame = POconame\n",
    "        self.POddl = POddl\n",
    "        \n",
    "    def PObuild(self):\n",
    "\n",
    "        self.POsup = input(\"请输入供应商名称：\")\n",
    "        self.POpl = input(\"请输入供应商地址：\")      \n",
    "        self.POtel = input(\"请输入供应商电话：\")\n",
    "        self.POconame = input(\"请输入供应商联系人：\")\n",
    "        self.POddl = input(\"请输入交货日期：\")\n",
    "        \"\"\"静态方法，把会计科目类属性字典，写入Excel文件\"\"\" \n",
    "        "
   ]
  },
  {
   "cell_type": "code",
   "execution_count": 9,
   "id": "553efe59",
   "metadata": {},
   "outputs": [],
   "source": [
    "class DNbill(Bill):  #定义子类DNbill  Bill是基类\n",
    "    \"\"\"送货单\"\"\"\n",
    "        \n",
    "    def __init__(self,\n",
    "                 DNcn='',\n",
    "                 DNnote = '',\n",
    "                 DNdate='',\n",
    "                 DNmoney='',\n",
    "                 DNsender='',\n",
    "                 DNreceiver=''):\n",
    "        \"\"\"基础科目主文件设置\"\"\"\n",
    "\n",
    "        self.DNcn = DNcn\n",
    "        self.DNnote = DNnote\n",
    "        self.DNdate = DNdate\n",
    "        self.DNmoney = DNmoney\n",
    "        self.DNsender = DNsender\n",
    "        self.DNreceiver = DNreceiver\n",
    "        \n",
    "    def DNbuild(self):\n",
    "\n",
    "        self.DNcn = input(\"请输入客户名称：\")\n",
    "        self.DNnote = input(\"请输入送货单号：\")\n",
    "        self.DNdate = input(\"请输入送货日期：\")\n",
    "        self.DNmoney = input(\"请输入送货金额：\")\n",
    "        self.DNsender = input(\"请输入送货人姓名：\")\n",
    "        self.DNreceiver = input(\"请输入签收人姓名：\")\n",
    "        \n",
    "        \"\"\"静态方法，把会计科目类属性字典，写入Excel文件\"\"\" "
   ]
  },
  {
   "cell_type": "code",
   "execution_count": 10,
   "id": "9243dc4b",
   "metadata": {},
   "outputs": [],
   "source": [
    "class PIbill(Bill):  #定义子类PIbill  Bill是基类\n",
    "    \"\"\"采购发票\"\"\"\n",
    "        \n",
    "    def __init__(self,\n",
    "                 PIsummary='',\n",
    "                 PIservice = '',\n",
    "                 PImoney='',\n",
    "                 PIrate='',\n",
    "                 PItax=''):\n",
    "        \"\"\"基础科目主文件设置\"\"\"\n",
    "\n",
    "        self.PIsummary = PIsummary\n",
    "        self.PIservice = PIservice\n",
    "        self.PImoney = PImoney\n",
    "        self.PIrate = PIrate\n",
    "        self.PItax = PItax\n",
    "        \n",
    "    def PIbuild(self):\n",
    "\n",
    "        self.PIsummary = input(\"请输入业务摘要：\")\n",
    "        self.PIservice = input(\"请输入服务名称：\")\n",
    "        self.PImoney = input(\"请输入金额：\")\n",
    "        self.PIrate = input(\"请输入税率：\")\n",
    "        self.PItax = input(\"请输入税额：\")\n",
    "        \n",
    "        \"\"\"静态方法，把会计科目类属性字典，写入Excel文件\"\"\" "
   ]
  },
  {
   "cell_type": "code",
   "execution_count": 11,
   "id": "9c12b39b",
   "metadata": {},
   "outputs": [],
   "source": [
    "class ARbill(Bill):  #定义子类ARbill  Bill是基类\n",
    "    \"\"\"验收入库单\"\"\"\n",
    "        \n",
    "    def __init__(self,\n",
    "                 ARrecieved='',\n",
    "                 ARpaid= ''):\n",
    "        \"\"\"基础科目主文件设置\"\"\"\n",
    "\n",
    "        self.ARrecieved = ARrecieved\n",
    "        self.ARpaid = ARpaid\n",
    "        \n",
    "    def ARbuild(self):\n",
    "\n",
    "        self.ARrecieved = input(\"请输入实收数量：\")\n",
    "        self.ARpaid = input(\"请输入实际价格：\")\n",
    "        \n",
    "        \"\"\"静态方法，把会计科目类属性字典，写入Excel文件\"\"\" "
   ]
  },
  {
   "cell_type": "code",
   "execution_count": 12,
   "id": "b4e9a85f",
   "metadata": {},
   "outputs": [],
   "source": [
    "class PayRbill(Bill):  #定义子类PayRbill  Bill是基类\n",
    "    \"\"\"付款申请单\"\"\"\n",
    "        \n",
    "    def __init__(self,\n",
    "                 PayRapplicant='',\n",
    "                 PayRmoney = '',\n",
    "                 PayRway='',\n",
    "                 PayRee='',\n",
    "                 PayReebank='',\n",
    "                 PayReeaccount=''):\n",
    "        \"\"\"基础科目主文件设置\"\"\"\n",
    "\n",
    "        self.PayRapplicant = PayRapplicant\n",
    "        self.PayRmoney = PayRmoney\n",
    "        self.PayRway = PayRway\n",
    "        self.PayRee = PayRee\n",
    "        self.PayReebank = PayReebank\n",
    "        self.PayReeaccount = PayReeaccount\n",
    "    \n",
    "    def PayRbuild(self):\n",
    "\n",
    "        self.PayRapplicant = input(\"请输入申请人所属部门：\")\n",
    "        self.PayRmoney = input(\"请输入申请付款金额：\")\n",
    "        self.PayRway = input(\"请输入付款方式：\")\n",
    "        self.PayRee = input(\"请输入收款单位：\")\n",
    "        self.PayReebank = input(\"请输入收款银行：\")\n",
    "        self.PayReeaccount = input(\"请输入收款账号：\")\n",
    "        \n",
    "        \"\"\"静态方法，把会计科目类属性字典，写入Excel文件\"\"\" "
   ]
  },
  {
   "cell_type": "code",
   "execution_count": 13,
   "id": "9639cf22",
   "metadata": {},
   "outputs": [],
   "source": [
    "class APAbill(Bill):  #定义子类PayRbill  Bill是基类\n",
    "    \"\"\"预付款申请单\"\"\"\n",
    "        \n",
    "    def __init__(self,\n",
    "                 APAapplicant='',\n",
    "                 APAmoney = '',\n",
    "                 APAway='',\n",
    "                 APAee='',\n",
    "                 APAeebank='',\n",
    "                 APAeeaccount=''):\n",
    "        \"\"\"基础科目主文件设置\"\"\"\n",
    "\n",
    "        self.APAapplicant = APAapplicant\n",
    "        self.APAmoney = APAmoney\n",
    "        self.APAway = APAway\n",
    "        self.APAee = APAee\n",
    "        self.APAeebank = APAeebank\n",
    "        self.APAeeaccount = APAeeaccount\n",
    "    \n",
    "    def APAbuild(self):\n",
    "\n",
    "        self.APAapplicant = input(\"请输入申请人所属部门：\")\n",
    "        self.APAmoney = input(\"请输入申请预付款金额：\")\n",
    "        self.APAway = input(\"请输入预付款方式：\")\n",
    "        self.APAee = input(\"请输入收款单位：\")\n",
    "        self.APAeebank = input(\"请输入收款银行：\")\n",
    "        self.APAeeaccount = input(\"请输入收款账号：\")\n",
    "        \n",
    "        \"\"\"静态方法，把会计科目类属性字典，写入Excel文件\"\"\" "
   ]
  },
  {
   "cell_type": "code",
   "execution_count": null,
   "id": "a5772f96",
   "metadata": {},
   "outputs": [],
   "source": []
  }
 ],
 "metadata": {
  "kernelspec": {
   "display_name": "Python 3.10.7 64-bit",
   "language": "python",
   "name": "python3"
  },
  "language_info": {
   "codemirror_mode": {
    "name": "ipython",
    "version": 3
   },
   "file_extension": ".py",
   "mimetype": "text/x-python",
   "name": "python",
   "nbconvert_exporter": "python",
   "pygments_lexer": "ipython3",
   "version": "3.10.7"
  },
  "vscode": {
   "interpreter": {
    "hash": "83108ff4368b07f6602529eaec9dcf81ced1c296dda54a0feaf4e02c76e6df80"
   }
  }
 },
 "nbformat": 4,
 "nbformat_minor": 5
}
